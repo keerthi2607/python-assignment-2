{
 "cells": [
  {
   "cell_type": "markdown",
   "id": "34aeac9d",
   "metadata": {},
   "source": [
    "# PYTHON ASSIGNMENT\n",
    "\n",
    "# NAME: KEERTHIGA.B\n",
    "# REG NO: 21UAI026\n"
   ]
  },
  {
   "cell_type": "markdown",
   "id": "77405ca4",
   "metadata": {},
   "source": [
    "# INHERITANCE\n",
    "## SINGLE INHERTANCE"
   ]
  },
  {
   "cell_type": "code",
   "execution_count": 4,
   "id": "6b602079",
   "metadata": {},
   "outputs": [
    {
     "name": "stdout",
     "output_type": "stream",
     "text": [
      "NAME: keerthiga\n",
      "INCOME 2000000\n",
      "I AM A TEAM LEAD\n"
     ]
    }
   ],
   "source": [
    "# single inheritance using protected access modifier\n",
    "class emp:\n",
    "    def __init__(self,name,income):\n",
    "        #protected data members initialization\n",
    "        self._name=name\n",
    "        self._income=income\n",
    "class hr(emp):\n",
    "    def display(self):\n",
    "        print(\"NAME:\",self._name)\n",
    "        print(\"INCOME\",self._income)\n",
    "    def dec(self):\n",
    "        print('I AM A TEAM LEAD')\n",
    "hrobj=hr('keerthiga',2000000)\n",
    "hrobj.display()\n",
    "hrobj.dec()"
   ]
  },
  {
   "cell_type": "markdown",
   "id": "1ab34a91",
   "metadata": {},
   "source": [
    "## MULTILEVEL INHERITANCE"
   ]
  },
  {
   "cell_type": "code",
   "execution_count": 8,
   "id": "761a66b9",
   "metadata": {},
   "outputs": [
    {
     "name": "stdout",
     "output_type": "stream",
     "text": [
      "HI \n",
      " 20\n"
     ]
    }
   ],
   "source": [
    "class gfather:\n",
    "    gfname='HI'\n",
    "    gfage=20\n",
    "class father(gfather):\n",
    "    fname='HELLO'\n",
    "    fage=5\n",
    "class son(father):\n",
    "    sname='WELCOME'\n",
    "    sage=1\n",
    "sobj=son()\n",
    "print(sobj.gfname,\"\\n\",sobj.gfage)\n"
   ]
  },
  {
   "cell_type": "markdown",
   "id": "3ddd8045",
   "metadata": {},
   "source": [
    "## MULTIPLE INHERITANCE"
   ]
  },
  {
   "cell_type": "code",
   "execution_count": 9,
   "id": "ebce715c",
   "metadata": {},
   "outputs": [
    {
     "name": "stdout",
     "output_type": "stream",
     "text": [
      "FATHER DETAILS:\n",
      "HI \n",
      " 10\n",
      "\n",
      "\n",
      "MOTHER DETAILS:\n",
      "HELLO \n",
      " 12\n"
     ]
    }
   ],
   "source": [
    "class father:\n",
    "    fname='HI'\n",
    "    fage=10\n",
    "class mother:\n",
    "    mname='HELLO'\n",
    "    mage=12\n",
    "class son(father,mother):\n",
    "    sname='WELCOME'\n",
    "    sage=5\n",
    "sobj=son()\n",
    "print(\"FATHER DETAILS:\")\n",
    "print(sobj.fname,\"\\n\",sobj.fage)\n",
    "print(\"\\n\")\n",
    "print(\"MOTHER DETAILS:\")\n",
    "print(sobj.mname,\"\\n\",sobj.mage)"
   ]
  },
  {
   "cell_type": "markdown",
   "id": "228cd008",
   "metadata": {},
   "source": [
    "## HIERARCHIAL INHERITANCE"
   ]
  },
  {
   "cell_type": "code",
   "execution_count": 13,
   "id": "95276235",
   "metadata": {},
   "outputs": [
    {
     "name": "stdout",
     "output_type": "stream",
     "text": [
      "234 \n",
      " XYZ ENGINEERING COLLEGE\n"
     ]
    }
   ],
   "source": [
    "class university:\n",
    "    uid=100\n",
    "    uname=\"XYZ UNIVERSITY\"\n",
    "class arts(university):\n",
    "    aid=123\n",
    "    aname=\"XYZ ARTS & SCIENCE\"\n",
    "class engg(university):\n",
    "    eid=234\n",
    "    ename=\"XYZ ENGINEERING COLLEGE\"\n",
    "class medical(university):\n",
    "    mid=331\n",
    "    mname=\"XYZ MEDICAL COLLEGE & HOSPITAL\"\n",
    "class arch(university):\n",
    "    arid=445\n",
    "    arname=\"XYZ SCHOOL OF ARCHITECTURE\"\n",
    "eobj=engg()\n",
    "print(eobj.eid,\"\\n\",eobj.ename)"
   ]
  },
  {
   "cell_type": "markdown",
   "id": "6deafe92",
   "metadata": {},
   "source": [
    "## HYBRID INHERITANCE"
   ]
  },
  {
   "cell_type": "code",
   "execution_count": 15,
   "id": "d7372e60",
   "metadata": {},
   "outputs": [
    {
     "name": "stdout",
     "output_type": "stream",
     "text": [
      "Grand Pa\n",
      "Mother\n",
      "Father\n",
      "Child\n"
     ]
    }
   ],
   "source": [
    "class GrandPa:\n",
    "    def __init__(self):\n",
    "        print(\"Grand Pa\")\n",
    "\n",
    "class Father(GrandPa):\n",
    "    def __init__(self):\n",
    "        super().__init__()\n",
    "        print(\"Father\")\n",
    "\n",
    "class Mother(GrandPa):\n",
    "    def __init__(self):\n",
    "        super().__init__()\n",
    "        print(\"Mother\")\n",
    "\n",
    "\n",
    "class child(Father, Mother):\n",
    "    def __init__(self):\n",
    "        super().__init__()\n",
    "        print(\"Child\")\n",
    "\n",
    "c = child()\n"
   ]
  },
  {
   "cell_type": "markdown",
   "id": "8348128f",
   "metadata": {},
   "source": [
    "## ACCESS MODIFIERS"
   ]
  },
  {
   "cell_type": "code",
   "execution_count": 16,
   "id": "165c0a3c",
   "metadata": {},
   "outputs": [
    {
     "data": {
      "text/plain": [
       "2"
      ]
     },
     "execution_count": 16,
     "metadata": {},
     "output_type": "execute_result"
    }
   ],
   "source": [
    "#private inheritance\n",
    "class emp:\n",
    "    def __init__(self,eid,name):\n",
    "        self._eid=eid\n",
    "        self._name=name\n",
    "e1=emp(2,'HI')\n",
    "e1._eid"
   ]
  },
  {
   "cell_type": "code",
   "execution_count": 17,
   "id": "2117eb8b",
   "metadata": {},
   "outputs": [
    {
     "name": "stdout",
     "output_type": "stream",
     "text": [
      "WELCOME\n",
      "name: KEERTHI\n",
      "role: STUDENT\n"
     ]
    }
   ],
   "source": [
    "#private data members initialization\n",
    "class emp:\n",
    "    def __init__(self,emid,name):\n",
    "        self.__eid=emid \n",
    "        self.__ename=name\n",
    "e1=emp(1,\"VK\")\n",
    "\n",
    "# protected data members initialization\n",
    "class job:\n",
    "    def __init__(self,name,role):\n",
    "        self._name=name \n",
    "        self._role=role\n",
    "    def displaydata(self):\n",
    "        print(\"name:\",self._name)\n",
    "        print(\"role:\",self._role)\n",
    "class hr(job):\n",
    "    print(\"WELCOME\")\n",
    "o1=hr('KEERTHI','STUDENT') \n",
    "o1.displaydata()\n",
    "\n"
   ]
  },
  {
   "cell_type": "code",
   "execution_count": 18,
   "id": "bced7116",
   "metadata": {},
   "outputs": [
    {
     "name": "stdout",
     "output_type": "stream",
     "text": [
      "NAME: KEERTHIGA\n",
      "HEIGHT: 170\n",
      "WEIGHT: 53.8\n"
     ]
    }
   ],
   "source": [
    "#public data members initialization\n",
    "class emp:\n",
    "    def __init__(self,name,height,weight):\n",
    "        self.sname=name # all data members are public by default \n",
    "        self.sheight=height # . is used to initialize public data members\n",
    "        self.sweight=weight\n",
    "    def display(self):\n",
    "        print(\"NAME:\",self.sname)\n",
    "        print(\"HEIGHT:\",self.sheight)\n",
    "        print(\"WEIGHT:\",self.sweight)\n",
    "o1=emp('KEERTHIGA',170,53.8)\n",
    "o1.display()"
   ]
  },
  {
   "cell_type": "markdown",
   "id": "6671b30e",
   "metadata": {},
   "source": [
    "## NUMPY AGGREGATORS"
   ]
  },
  {
   "cell_type": "code",
   "execution_count": 21,
   "id": "1b4f73ae",
   "metadata": {},
   "outputs": [
    {
     "name": "stdout",
     "output_type": "stream",
     "text": [
      "54 1 151\n"
     ]
    }
   ],
   "source": [
    "import numpy as np\n",
    "x=np.array([[1,3,5,2],[5,34,54,5],[9,10,11,12]])\n",
    "print(np.max(x),np.min(x),np.sum(x))"
   ]
  },
  {
   "cell_type": "code",
   "execution_count": 22,
   "id": "d676ecb0",
   "metadata": {},
   "outputs": [
    {
     "name": "stdout",
     "output_type": "stream",
     "text": [
      "[[37 39  2 39]\n",
      " [ 6 18 19 22]]\n",
      "182\n",
      "sum row-wise: [11 98 42]\n",
      "sum col-wise: [15 47 70 19]\n",
      "max element of each col: [ 9 34 54 12]\n",
      "min element of each col: [1 3 5 2]\n"
     ]
    }
   ],
   "source": [
    "m=np.random.randint(1,50,(2,4))\n",
    "print(m)\n",
    "print(m.sum())\n",
    "print(\"sum row-wise:\",np.sum(x,axis=1))\n",
    "print(\"sum col-wise:\",np.sum(x,axis=0))\n",
    "print(\"max element of each col:\",np.max(x,axis=0))\n",
    "print(\"min element of each col:\",np.min(x,axis=0))\n"
   ]
  },
  {
   "cell_type": "code",
   "execution_count": 23,
   "id": "052fae8e",
   "metadata": {},
   "outputs": [
    {
     "name": "stdout",
     "output_type": "stream",
     "text": [
      "48\n",
      "5.5\n",
      "2.23606797749979\n",
      "6.75\n",
      "3\n",
      "0\n",
      "False\n",
      "True\n",
      "3.0\n"
     ]
    }
   ],
   "source": [
    "import numpy as np\n",
    "print(np.product([[1,6],[2,4]]))\n",
    "print(np.mean([[2,6],[6,8]]))\n",
    "print(np.std([[2,4],[6,8]]))\n",
    "print(np.var([[2,2],[6,8]]))\n",
    "x=np.array([[2,4],[6,8]])\n",
    "print(np.argmax([1,2,3,4]))\n",
    "print(np.argmin([1,2,3,4]))\n",
    "b=np.array([True,True,True,False])\n",
    "print(np.all(b))\n",
    "print(np.any(b))\n",
    "print(np.median([1,2,3,4,5]))"
   ]
  },
  {
   "cell_type": "markdown",
   "id": "9d8440b4",
   "metadata": {},
   "source": [
    "## COMPARISION,MASKS AND BOOLEAN ARRAYS IN NUMPY"
   ]
  },
  {
   "cell_type": "code",
   "execution_count": 24,
   "id": "b1d41cc8",
   "metadata": {},
   "outputs": [
    {
     "name": "stdout",
     "output_type": "stream",
     "text": [
      "[ True False False False False]\n",
      "[False False  True  True  True]\n",
      "[ True  True False False False]\n",
      "[False  True  True  True  True]\n",
      "[ True False  True  True  True]\n",
      "[False  True False False False]\n"
     ]
    }
   ],
   "source": [
    "#boolean operations\n",
    "import numpy as np\n",
    "x=np.array([1,2,3,4,5])\n",
    "print(x<2)\n",
    "print(x>2)\n",
    "print(x<=2)\n",
    "print(x>=2)\n",
    "print(x!=2)\n",
    "print(x==2)"
   ]
  },
  {
   "cell_type": "code",
   "execution_count": 25,
   "id": "e6785173",
   "metadata": {},
   "outputs": [
    {
     "data": {
      "text/plain": [
       "array([False, False, False, False, False])"
      ]
     },
     "execution_count": 25,
     "metadata": {},
     "output_type": "execute_result"
    }
   ],
   "source": [
    "3*x==(x**3)"
   ]
  },
  {
   "cell_type": "code",
   "execution_count": 26,
   "id": "e5fddf1d",
   "metadata": {},
   "outputs": [
    {
     "data": {
      "text/plain": [
       "False"
      ]
     },
     "execution_count": 26,
     "metadata": {},
     "output_type": "execute_result"
    }
   ],
   "source": [
    "bool(23 and 0)"
   ]
  },
  {
   "cell_type": "code",
   "execution_count": 28,
   "id": "4609df5e",
   "metadata": {},
   "outputs": [],
   "source": [
    "x=np.array([1,0,1,0,1,1],dtype=bool)\n",
    "y=np.array([1,1,1,0,1,0],dtype=bool)"
   ]
  },
  {
   "cell_type": "code",
   "execution_count": 30,
   "id": "6c10162e",
   "metadata": {},
   "outputs": [
    {
     "data": {
      "text/plain": [
       "array([ True, False,  True, False,  True, False])"
      ]
     },
     "execution_count": 30,
     "metadata": {},
     "output_type": "execute_result"
    }
   ],
   "source": [
    "x&y"
   ]
  },
  {
   "cell_type": "code",
   "execution_count": 31,
   "id": "e5100914",
   "metadata": {},
   "outputs": [
    {
     "data": {
      "text/plain": [
       "array([ True,  True,  True, False,  True,  True])"
      ]
     },
     "execution_count": 31,
     "metadata": {},
     "output_type": "execute_result"
    }
   ],
   "source": [
    "x|y"
   ]
  },
  {
   "cell_type": "code",
   "execution_count": 32,
   "id": "18780dcd",
   "metadata": {},
   "outputs": [
    {
     "data": {
      "text/plain": [
       "array([False,  True, False, False, False,  True])"
      ]
     },
     "execution_count": 32,
     "metadata": {},
     "output_type": "execute_result"
    }
   ],
   "source": [
    "x!=y"
   ]
  },
  {
   "cell_type": "code",
   "execution_count": 33,
   "id": "9a2e8b40",
   "metadata": {},
   "outputs": [
    {
     "data": {
      "text/plain": [
       "array([False,  True, False, False, False,  True])"
      ]
     },
     "execution_count": 33,
     "metadata": {},
     "output_type": "execute_result"
    }
   ],
   "source": [
    "x^y"
   ]
  },
  {
   "cell_type": "code",
   "execution_count": 35,
   "id": "2e70afbd",
   "metadata": {},
   "outputs": [
    {
     "data": {
      "text/plain": [
       "False"
      ]
     },
     "execution_count": 35,
     "metadata": {},
     "output_type": "execute_result"
    }
   ],
   "source": [
    "np.all(x) "
   ]
  },
  {
   "cell_type": "code",
   "execution_count": 36,
   "id": "bc4a55e9",
   "metadata": {},
   "outputs": [
    {
     "data": {
      "text/plain": [
       "True"
      ]
     },
     "execution_count": 36,
     "metadata": {},
     "output_type": "execute_result"
    }
   ],
   "source": [
    "np.any(y)"
   ]
  },
  {
   "cell_type": "markdown",
   "id": "52ddb655",
   "metadata": {},
   "source": [
    "## EXCEPTION HANDLING"
   ]
  },
  {
   "cell_type": "code",
   "execution_count": 42,
   "id": "eeeca307",
   "metadata": {},
   "outputs": [
    {
     "name": "stdout",
     "output_type": "stream",
     "text": [
      "3.0\n",
      "error handling learnt succesfully\n"
     ]
    }
   ],
   "source": [
    "#zero division error\n",
    "def fun(a,b):\n",
    "    try:\n",
    "        c=a+b/(a-b)\n",
    "    except ZeroDivisionError:\n",
    "        print(\"Error due to divided by 0\")\n",
    "        \n",
    "    else:\n",
    "        print(c)\n",
    "    finally:\n",
    "        print(\"error handling learnt succesfully\")\n",
    "fun(2,1)      \n",
    "\n",
    "    "
   ]
  },
  {
   "cell_type": "code",
   "execution_count": 43,
   "id": "e9f8d77a",
   "metadata": {},
   "outputs": [
    {
     "name": "stdout",
     "output_type": "stream",
     "text": [
      "distinction\n"
     ]
    }
   ],
   "source": [
    "cgpa=9\n",
    "try:\n",
    "    if(cgpa>8.5):\n",
    "        print(\"distinction\")\n",
    "except SyntaxError:\n",
    "    print(\"syntax error\")\n",
    "\n"
   ]
  },
  {
   "cell_type": "code",
   "execution_count": 39,
   "id": "d8267779",
   "metadata": {},
   "outputs": [
    {
     "name": "stdout",
     "output_type": "stream",
     "text": [
      "Second element = 1\n",
      "An error occurred\n"
     ]
    }
   ],
   "source": [
    "list1 = ['x',1, 2, 3,-9.6]\n",
    "try: \n",
    "    print (\"Second element =\",list1[1])\n",
    "    print (\"Sixth element =\",list1[5]) #trying to access out of range element\n",
    "  \n",
    "except:\n",
    "    print (\"An error occurred\")"
   ]
  },
  {
   "cell_type": "code",
   "execution_count": 44,
   "id": "983122d4",
   "metadata": {},
   "outputs": [
    {
     "name": "stdout",
     "output_type": "stream",
     "text": [
      "dividing a/b is 0\n",
      "2.0\n"
     ]
    }
   ],
   "source": [
    "def func1(a , b):\n",
    "    try:\n",
    "        c = ((a+b) / (a-b))\n",
    "    except ZeroDivisionError:\n",
    "        print (\"dividing a/b is 0\")\n",
    "    else:\n",
    "        print (c)  \n",
    "        \n",
    "func1(1,1)\n",
    "func1(3,1)"
   ]
  },
  {
   "cell_type": "code",
   "execution_count": 45,
   "id": "573ff289",
   "metadata": {},
   "outputs": [
    {
     "name": "stdout",
     "output_type": "stream",
     "text": [
      "An exception\n"
     ]
    }
   ],
   "source": [
    "try:\n",
    "    raise NameError(\"Hi hello\") # Raise Error\n",
    "except NameError:\n",
    "    print (\"An exception\")\n",
    "    "
   ]
  },
  {
   "cell_type": "code",
   "execution_count": null,
   "id": "3ffe6600",
   "metadata": {},
   "outputs": [],
   "source": []
  }
 ],
 "metadata": {
  "kernelspec": {
   "display_name": "Python 3 (ipykernel)",
   "language": "python",
   "name": "python3"
  },
  "language_info": {
   "codemirror_mode": {
    "name": "ipython",
    "version": 3
   },
   "file_extension": ".py",
   "mimetype": "text/x-python",
   "name": "python",
   "nbconvert_exporter": "python",
   "pygments_lexer": "ipython3",
   "version": "3.9.12"
  }
 },
 "nbformat": 4,
 "nbformat_minor": 5
}
